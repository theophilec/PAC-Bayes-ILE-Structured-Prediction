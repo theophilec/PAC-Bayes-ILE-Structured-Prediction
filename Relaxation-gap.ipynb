{
 "cells": [
  {
   "cell_type": "code",
   "execution_count": 1,
   "metadata": {},
   "outputs": [],
   "source": [
    "import numpy as np\n",
    "from numpy.linalg import norm\n",
    "import matplotlib.pyplot as plt"
   ]
  },
  {
   "cell_type": "code",
   "execution_count": 2,
   "metadata": {},
   "outputs": [],
   "source": [
    "np.random.seed(0)"
   ]
  },
  {
   "cell_type": "code",
   "execution_count": 15,
   "metadata": {},
   "outputs": [],
   "source": [
    "N_x = 8\n",
    "N_y = 2\n",
    "N = N_y * N_x\n",
    "M=10000"
   ]
  },
  {
   "cell_type": "code",
   "execution_count": 16,
   "metadata": {},
   "outputs": [],
   "source": [
    "V_mean = np.random.randint(-10, 10, size=(N_y, N_x))\n",
    "x = np.random.randint(-10, 10, size=(N_x,))\n",
    "y = np.random.randint(-1, 1, size=(N_y,))\n"
   ]
  },
  {
   "cell_type": "code",
   "execution_count": 24,
   "metadata": {},
   "outputs": [],
   "source": [
    "def slackness(N, V_mean, M, N_x, N_y, sigma, x, y, tol=1e-2):\n",
    "    predictors = np.random.multivariate_normal(V_mean.reshape(N), sigma**2*np.eye(N), size=M).reshape(M, N_y, N_x)\n",
    "    mean_pred = V_mean.dot(x)\n",
    "    y_pred = predictors.dot(x)\n",
    "    res_norm = norm(y-y_pred, axis=1)\n",
    "    res_norm_expectation = res_norm.mean()\n",
    "    mean_norm = norm(y-mean_pred)\n",
    "    left = res_norm_expectation\n",
    "    right = np.sqrt(mean_norm ** 2 + sigma ** 2 * N_y * norm(x) ** 2)\n",
    "    if left >= right + tol:\n",
    "        return None\n",
    "    else:\n",
    "        return left, right, np.abs(right-left)/right"
   ]
  },
  {
   "cell_type": "code",
   "execution_count": 25,
   "metadata": {},
   "outputs": [],
   "source": [
    "h = []\n",
    "sigmas=np.logspace(-3, 3, 100)\n",
    "for sigma in sigmas:\n",
    "    a = slackness(N, V_mean, M, N_x, N_y, sigma, x, y)\n",
    "    if a is None:\n",
    "        h.append(0)\n",
    "    else:\n",
    "        h.append(a[-1])"
   ]
  },
  {
   "cell_type": "code",
   "execution_count": 26,
   "metadata": {},
   "outputs": [
    {
     "data": {
      "image/png": "[encoded data removed]",
      "text/plain": [
       "<Figure size 432x288 with 1 Axes>"
      ]
     },
     "metadata": {
      "needs_background": "light"
     },
     "output_type": "display_data"
    }
   ],
   "source": [
    "plt.loglog(sigmas, h)\n",
    "plt.xlabel(r\"$\\sigma$\")\n",
    "plt.ylabel(\"Relative gap\")\n",
    "plt.savefig(\"relaxation-gap.png\", dpi=400\n",
    "        )"
   ]
  },
  {
   "cell_type": "code",
   "execution_count": null,
   "metadata": {},
   "outputs": [],
   "source": []
  },
  {
   "cell_type": "code",
   "execution_count": null,
   "metadata": {},
   "outputs": [],
   "source": []
  }
 ],
 "metadata": {
  "kernelspec": {
   "display_name": "Python 3",
   "language": "python",
   "name": "python3"
  },
  "language_info": {
   "codemirror_mode": {
    "name": "ipython",
    "version": 3
   },
   "file_extension": ".py",
   "mimetype": "text/x-python",
   "name": "python",
   "nbconvert_exporter": "python",
   "pygments_lexer": "ipython3",
   "version": "3.6.9"
  }
 },
 "nbformat": 4,
 "nbformat_minor": 4
}
